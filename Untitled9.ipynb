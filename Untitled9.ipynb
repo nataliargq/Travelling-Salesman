{
 "cells": [
  {
   "cell_type": "code",
   "execution_count": null,
   "id": "5482ea1f",
   "metadata": {},
   "outputs": [],
   "source": [
    "import random\n",
    "import heapq"
   ]
  },
  {
   "cell_type": "code",
   "execution_count": null,
   "id": "689a40bd",
   "metadata": {},
   "outputs": [],
   "source": [
    "# Define the problem - a list of cities and their distances\n",
    "cities = {\n",
    "    'Madrid': {'Barcelona': (98,150), 'Paris': (380,225) },\n",
    "    'Barcelona': {'Madrid': (98,150), 'Lyon': (320,200), 'Paris': (400,390)},\n",
    "    'Lyon': {'Barcelona': (320,200), 'Milan': (180,176), 'Paris': (185,112)},\n",
    "    'Milan': {'Lyon': (180,176), 'Rome': (125,168), 'Frankfurt': (240,454)},\n",
    "    'Rome': {'Milan': (125,168)},\n",
    "    'Frankfurt': {'Milan': (240,454), 'Paris': (345,480), 'Cologne': (40,120), 'Berlin': (125,232)},\n",
    "    'Berlin': {'Frankfurt': (2125,232), 'Amsterdam': (235,364)},\n",
    "    'Amsterdam': {'Berlin': (235,364), 'Cologne': (40,120), 'Brussels': (48,105)},\n",
    "    'Cologne': {'Amsterdam': (40,120), 'Frankfurt': (40,120)},\n",
    "    'Paris': {'Madrid': (380,225), 'Barcelona': (400,390), 'Lyon': (185,112), 'Frankfurt': (345,480), 'Brussels': (80,82), 'London': (98,136)},\n",
    "    'London': {'Paris': (98,136), 'Brussels': (98,136)},\n",
    "    'Brussels': {'London': (198,136), 'Paris': (80,82), 'Amsterdam': (48,105)},\n",
    "}"
   ]
  },
  {
   "cell_type": "code",
   "execution_count": null,
   "id": "5da1a471",
   "metadata": {},
   "outputs": [],
   "source": [
    "# Define the parameters of the genetic algorithm\n",
    "population_size = 2\n",
    "num_generations = 0\n",
    "mutation_rate = 0.1"
   ]
  },
  {
   "cell_type": "code",
   "execution_count": null,
   "id": "9d44b7d1",
   "metadata": {},
   "outputs": [],
   "source": [
    "# Dijkstra's algorithm for finding the shortest path in a graph\n",
    "def dijkstra(graph, start, end):\n",
    "    heap = [(0, start, [])]\n",
    "    visited = set()\n",
    "    while heap:\n",
    "        (cost, curr, path) = heapq.heappop(heap)\n",
    "        if curr not in visited:\n",
    "            visited.add(curr)\n",
    "            path = path + [curr]\n",
    "            if curr == end:\n",
    "                return path\n",
    "            for neighbor, weight in graph[curr].items():\n",
    "                if neighbor not in visited:\n",
    "                    heapq.heappush(heap, (cost + weight[0], neighbor, path))\n",
    "    return None"
   ]
  },
  {
   "cell_type": "code",
   "execution_count": null,
   "id": "c3063b79",
   "metadata": {},
   "outputs": [],
   "source": [
    "# Helper function for make_viable()\n",
    "def remove_adjacent(nums):\n",
    "     return [a for a,b in zip(nums, nums[1:]+[not nums[-1]]) if a != b]"
   ]
  },
  {
   "cell_type": "code",
   "execution_count": null,
   "id": "2a9bc39f",
   "metadata": {},
   "outputs": [],
   "source": [
    "# Checks if possible solution is a good solution. If not, it converts it so.\n",
    "def make_viable(graph, psol):\n",
    "    sol = []\n",
    "    temp = []\n",
    "    i = 0\n",
    "    while i < len(psol)-1:\n",
    "        if psol[i+1] not in graph.get(psol[i]):\n",
    "            temp = dijkstra(cities, psol[i], psol[i+1])\n",
    "            sol.extend(temp)\n",
    "        else:\n",
    "            sol.append(psol[i])\n",
    "        temp = []\n",
    "        i = i+1\n",
    "        sol = remove_adjacent(sol)\n",
    "    return sol"
   ]
  },
  {
   "cell_type": "code",
   "execution_count": null,
   "id": "1cf20951",
   "metadata": {},
   "outputs": [],
   "source": [
    "# Initialize the population of potential solutions\n",
    "def create_individual():\n",
    "    cities_list = list(cities.keys())\n",
    "    random.shuffle(cities_list)\n",
    "    for i in range(len(cities_list)):\n",
    "        cities_list = make_viable(cities, cities_list)\n",
    "    return cities_list\n",
    "\n",
    "population = [create_individual() for _ in range(population_size)]\n"
   ]
  },
  {
   "cell_type": "code",
   "execution_count": null,
   "id": "7f2c8f59",
   "metadata": {},
   "outputs": [],
   "source": [
    "# Define the fitness function\n",
    "def calculate_fitness(individual):\n",
    "    # Calculate the total distance of the route\n",
    "    distance = 0\n",
    "    for i in range(len(individual)-1):\n",
    "        current_city = individual[i]\n",
    "        next_city = individual[(i+1) % len(individual)]\n",
    "        distance += cities[current_city][next_city][1]\n",
    "        if distance > 4320:\n",
    "            return 0\n",
    "    # Return the inverse of the distance as the fitness\n",
    "    return 1 / distance"
   ]
  },
  {
   "cell_type": "code",
   "execution_count": null,
   "id": "280ec37e",
   "metadata": {},
   "outputs": [],
   "source": [
    "# Define the selection function\n",
    "def selection(population):\n",
    "    # Use tournament selection to choose parents\n",
    "    tournament_size = 2\n",
    "    parents = []\n",
    "    for _ in range(len(population)):\n",
    "        tournament = random.sample(population, tournament_size)\n",
    "        winner = max(tournament, key=calculate_fitness)\n",
    "        parents.append(winner)\n",
    "    return parents"
   ]
  },
  {
   "cell_type": "code",
   "execution_count": null,
   "id": "336d694f",
   "metadata": {},
   "outputs": [],
   "source": [
    "# Define the crossover function\n",
    "def crossover(parent1, parent2):\n",
    "    # Choose a random crossover point\n",
    "    crossover_point = random.randint(1, len(parent1)-1)\n",
    "    # Create the offspring by swapping the tails of the parents\n",
    "    offspring1 = parent1[:crossover_point] + [city for city in parent2 if city not in parent1[:crossover_point]]\n",
    "    offspring2 = parent2[:crossover_point] + [city for city in parent1 if city not in parent2[:crossover_point]]\n",
    "    offspring1 = make_viable(cities, offspring1)\n",
    "    offspring2 = make_viable(cities, offspring2)\n",
    "    return offspring1, offspring2"
   ]
  },
  {
   "cell_type": "code",
   "execution_count": null,
   "id": "fe222487",
   "metadata": {},
   "outputs": [],
   "source": [
    "# Define the mutation function\n",
    "def mutation(individual, mutation_rate):\n",
    "    # Swap two cities with a given probability\n",
    "    for i in range(len(individual)):\n",
    "        if random.random() < mutation_rate:\n",
    "            j = random.randint(0, len(individual)-1)\n",
    "            individual[i], individual[j] = individual[j], individual[i]\n",
    "    individual = make_viable(cities, individual)"
   ]
  },
  {
   "cell_type": "code",
   "execution_count": null,
   "id": "81ad8a1c",
   "metadata": {},
   "outputs": [],
   "source": [
    "# Define the replacement function\n",
    "def replacement(population, offspring):\n",
    "    # Replace the least fit individuals with the offspring\n",
    "    population = sorted(population, key=calculate_fitness)\n",
    "    num_to_replace = len(offspring)\n",
    "    population[-num_to_replace:] = offspring\n",
    "    for i in range(len(population)):\n",
    "        population[i] = make_viable(cities, population[i]) \n",
    "    return population"
   ]
  },
  {
   "cell_type": "code",
   "execution_count": null,
   "id": "0b19a84c",
   "metadata": {},
   "outputs": [],
   "source": [
    "# Run the genetic algorithm\n",
    "for generation in range(num_generations):\n",
    "    print(f'Generation: {generation}')\n",
    "    # Evaluate the fitness of the population\n",
    "    fitness_scores = [calculate_fitness(individual) for individual in population]\n",
    "    # Select parents and create offspring\n",
    "    parents = selection(population)\n",
    "    offspring = []\n",
    "    for i in range(0, len(parents), 2):\n",
    "        offspring1, offspring2 = crossover(parents[i], parents[i+1])\n",
    "        mutation(offspring1, mutation_rate)\n",
    "        mutation(offspring2, mutation_rate)\n",
    "        offspring.extend([offspring1, offspring2])\n",
    "    # Replace the least fit individuals with the offspring\n",
    "    print()\n",
    "    population = replacement(population, offspring)\n",
    "    # Make population travel to ALL the cities, then make viable."
   ]
  },
  {
   "cell_type": "code",
   "execution_count": 20,
   "id": "4ba06d39",
   "metadata": {},
   "outputs": [
    {
     "name": "stdout",
     "output_type": "stream",
     "text": [
      "Best individual: ['Brussels', 'Amsterdam', 'Cologne', 'Frankfurt', 'Berlin', 'Amsterdam', 'Brussels', 'Paris', 'London', 'Paris', 'Lyon', 'Paris', 'Barcelona', 'Lyon', 'Milan', 'Rome']\n",
      "Best fitness: 0.00\n"
     ]
    }
   ],
   "source": [
    "# Print the best solution found\n",
    "best_individual = max(population, key=calculate_fitness)\n",
    "best_fitness = calculate_fitness(best_individual)\n",
    "print(f'Best individual: {best_individual}')\n",
    "print(f'Best fitness: {best_fitness:.2f}')"
   ]
  },
  {
   "cell_type": "code",
   "execution_count": null,
   "id": "c423d3d7",
   "metadata": {},
   "outputs": [],
   "source": []
  }
 ],
 "metadata": {
  "kernelspec": {
   "display_name": "Python 3 (ipykernel)",
   "language": "python",
   "name": "python3"
  },
  "language_info": {
   "codemirror_mode": {
    "name": "ipython",
    "version": 3
   },
   "file_extension": ".py",
   "mimetype": "text/x-python",
   "name": "python",
   "nbconvert_exporter": "python",
   "pygments_lexer": "ipython3",
   "version": "3.9.7"
  }
 },
 "nbformat": 4,
 "nbformat_minor": 5
}
